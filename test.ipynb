{
 "cells": [
  {
   "cell_type": "markdown",
   "id": "0bd7c3ad-53b9-47c9-92b9-a2d1747c8c5b",
   "metadata": {},
   "source": [
    "# Preprocess Data"
   ]
  },
  {
   "cell_type": "code",
   "execution_count": 1,
   "id": "81e69b1e-a5fc-4288-9566-b37fb30e7be5",
   "metadata": {},
   "outputs": [],
   "source": [
    "import matplotlib\n",
    "import pandas\n",
    "import numpy"
   ]
  },
  {
   "cell_type": "code",
   "execution_count": 2,
   "id": "026b26a6-1d83-4aec-b724-2aee82c128b8",
   "metadata": {},
   "outputs": [
    {
     "name": "stderr",
     "output_type": "stream",
     "text": [
      "C:\\Users\\stanl\\AppData\\Local\\Temp\\ipykernel_1088\\432722169.py:1: DtypeWarning: Columns (3) have mixed types. Specify dtype option on import or set low_memory=False.\n",
      "  books = pandas.read_csv('archive/Books.csv')\n"
     ]
    }
   ],
   "source": [
    "books = pandas.read_csv('archive/Books.csv')\n",
    "ratings = pandas.read_csv('archive/Ratings.csv')"
   ]
  },
  {
   "cell_type": "code",
   "execution_count": 3,
   "id": "4d979c63-cb6b-46cb-9312-e181e2981028",
   "metadata": {},
   "outputs": [
    {
     "data": {
      "text/html": [
       "<div>\n",
       "<style scoped>\n",
       "    .dataframe tbody tr th:only-of-type {\n",
       "        vertical-align: middle;\n",
       "    }\n",
       "\n",
       "    .dataframe tbody tr th {\n",
       "        vertical-align: top;\n",
       "    }\n",
       "\n",
       "    .dataframe thead th {\n",
       "        text-align: right;\n",
       "    }\n",
       "</style>\n",
       "<table border=\"1\" class=\"dataframe\">\n",
       "  <thead>\n",
       "    <tr style=\"text-align: right;\">\n",
       "      <th></th>\n",
       "      <th>ISBN</th>\n",
       "      <th>Book-Title</th>\n",
       "      <th>Book-Author</th>\n",
       "      <th>Year-Of-Publication</th>\n",
       "      <th>Publisher</th>\n",
       "      <th>Image-URL-L</th>\n",
       "    </tr>\n",
       "  </thead>\n",
       "  <tbody>\n",
       "    <tr>\n",
       "      <th>0</th>\n",
       "      <td>0195153448</td>\n",
       "      <td>Classical Mythology</td>\n",
       "      <td>Mark P. O. Morford</td>\n",
       "      <td>2002</td>\n",
       "      <td>Oxford University Press</td>\n",
       "      <td>http://images.amazon.com/images/P/0195153448.0...</td>\n",
       "    </tr>\n",
       "    <tr>\n",
       "      <th>1</th>\n",
       "      <td>0002005018</td>\n",
       "      <td>Clara Callan</td>\n",
       "      <td>Richard Bruce Wright</td>\n",
       "      <td>2001</td>\n",
       "      <td>HarperFlamingo Canada</td>\n",
       "      <td>http://images.amazon.com/images/P/0002005018.0...</td>\n",
       "    </tr>\n",
       "    <tr>\n",
       "      <th>2</th>\n",
       "      <td>0060973129</td>\n",
       "      <td>Decision in Normandy</td>\n",
       "      <td>Carlo D'Este</td>\n",
       "      <td>1991</td>\n",
       "      <td>HarperPerennial</td>\n",
       "      <td>http://images.amazon.com/images/P/0060973129.0...</td>\n",
       "    </tr>\n",
       "    <tr>\n",
       "      <th>3</th>\n",
       "      <td>0374157065</td>\n",
       "      <td>Flu: The Story of the Great Influenza Pandemic...</td>\n",
       "      <td>Gina Bari Kolata</td>\n",
       "      <td>1999</td>\n",
       "      <td>Farrar Straus Giroux</td>\n",
       "      <td>http://images.amazon.com/images/P/0374157065.0...</td>\n",
       "    </tr>\n",
       "    <tr>\n",
       "      <th>4</th>\n",
       "      <td>0393045218</td>\n",
       "      <td>The Mummies of Urumchi</td>\n",
       "      <td>E. J. W. Barber</td>\n",
       "      <td>1999</td>\n",
       "      <td>W. W. Norton &amp;amp; Company</td>\n",
       "      <td>http://images.amazon.com/images/P/0393045218.0...</td>\n",
       "    </tr>\n",
       "  </tbody>\n",
       "</table>\n",
       "</div>"
      ],
      "text/plain": [
       "         ISBN                                         Book-Title  \\\n",
       "0  0195153448                                Classical Mythology   \n",
       "1  0002005018                                       Clara Callan   \n",
       "2  0060973129                               Decision in Normandy   \n",
       "3  0374157065  Flu: The Story of the Great Influenza Pandemic...   \n",
       "4  0393045218                             The Mummies of Urumchi   \n",
       "\n",
       "            Book-Author Year-Of-Publication                   Publisher  \\\n",
       "0    Mark P. O. Morford                2002     Oxford University Press   \n",
       "1  Richard Bruce Wright                2001       HarperFlamingo Canada   \n",
       "2          Carlo D'Este                1991             HarperPerennial   \n",
       "3      Gina Bari Kolata                1999        Farrar Straus Giroux   \n",
       "4       E. J. W. Barber                1999  W. W. Norton &amp; Company   \n",
       "\n",
       "                                         Image-URL-L  \n",
       "0  http://images.amazon.com/images/P/0195153448.0...  \n",
       "1  http://images.amazon.com/images/P/0002005018.0...  \n",
       "2  http://images.amazon.com/images/P/0060973129.0...  \n",
       "3  http://images.amazon.com/images/P/0374157065.0...  \n",
       "4  http://images.amazon.com/images/P/0393045218.0...  "
      ]
     },
     "execution_count": 3,
     "metadata": {},
     "output_type": "execute_result"
    }
   ],
   "source": [
    "books = books.drop(columns=['Image-URL-S', 'Image-URL-M'])\n",
    "books.head()"
   ]
  },
  {
   "cell_type": "code",
   "execution_count": 4,
   "id": "dd45d0ae-80cb-4f7e-afe5-ec403acd856a",
   "metadata": {},
   "outputs": [
    {
     "data": {
      "text/plain": [
       "<Axes: xlabel='Year-Of-Publication'>"
      ]
     },
     "execution_count": 4,
     "metadata": {},
     "output_type": "execute_result"
    },
    {
     "data": {
      "image/png": "[encoded data removed]",
      "text/plain": [
       "<Figure size 1000x300 with 1 Axes>"
      ]
     },
     "metadata": {},
     "output_type": "display_data"
    }
   ],
   "source": [
    "books['Year-Of-Publication'] = pandas.to_numeric(books['Year-Of-Publication'], errors='coerce')\n",
    "books_year_count = books[(books['Year-Of-Publication'] > 1979) & (books['Year-Of-Publication'] < 2006)].groupby('Year-Of-Publication').count()\n",
    "books_year_count = books_year_count.rename(columns={'ISBN': 'Count'})\n",
    "books_year_count.plot.bar(y='Count', figsize=(10, 3))"
   ]
  },
  {
   "cell_type": "code",
   "execution_count": 5,
   "id": "c7928a70-7250-47f2-99f5-183a802100cb",
   "metadata": {},
   "outputs": [
    {
     "data": {
      "text/plain": [
       "<Axes: xlabel='Book-Author'>"
      ]
     },
     "execution_count": 5,
     "metadata": {},
     "output_type": "execute_result"
    },
    {
     "data": {
      "image/png": "[encoded data removed]",
      "text/plain": [
       "<Figure size 640x480 with 1 Axes>"
      ]
     },
     "metadata": {},
     "output_type": "display_data"
    }
   ],
   "source": [
    "books_author_count = books.groupby('Book-Author').count()\n",
    "books_author_count = books_author_count.rename(columns={'ISBN': 'Count'})\n",
    "books_author_count = books_author_count.sort_values('Count', ascending=False)\n",
    "books_author_count.head(10).plot.bar(y='Count')"
   ]
  },
  {
   "cell_type": "code",
   "execution_count": 6,
   "id": "4e769e4e-f74c-4440-9598-96c1a8e7b446",
   "metadata": {},
   "outputs": [
    {
     "data": {
      "text/plain": [
       "<Axes: xlabel='Book-Rating'>"
      ]
     },
     "execution_count": 6,
     "metadata": {},
     "output_type": "execute_result"
    },
    {
     "data": {
      "image/png": "[encoded data removed]",
      "text/plain": [
       "<Figure size 640x480 with 1 Axes>"
      ]
     },
     "metadata": {},
     "output_type": "display_data"
    }
   ],
   "source": [
    "ratings_count = ratings.groupby('Book-Rating').count()\n",
    "ratings_count = ratings_count.rename(columns={'User-ID': 'Count'})\n",
    "ratings_count = ratings_count.drop(['ISBN'], axis=1)\n",
    "ratings_count.plot.bar(y='Count')"
   ]
  },
  {
   "cell_type": "code",
   "execution_count": 7,
   "id": "65832961-3e66-47fc-ab8f-ded13a96ebe6",
   "metadata": {},
   "outputs": [
    {
     "data": {
      "text/html": [
       "<div>\n",
       "<style scoped>\n",
       "    .dataframe tbody tr th:only-of-type {\n",
       "        vertical-align: middle;\n",
       "    }\n",
       "\n",
       "    .dataframe tbody tr th {\n",
       "        vertical-align: top;\n",
       "    }\n",
       "\n",
       "    .dataframe thead th {\n",
       "        text-align: right;\n",
       "    }\n",
       "</style>\n",
       "<table border=\"1\" class=\"dataframe\">\n",
       "  <thead>\n",
       "    <tr style=\"text-align: right;\">\n",
       "      <th></th>\n",
       "      <th>User-ID</th>\n",
       "      <th>ISBN</th>\n",
       "      <th>Book-Rating</th>\n",
       "    </tr>\n",
       "  </thead>\n",
       "  <tbody>\n",
       "    <tr>\n",
       "      <th>1</th>\n",
       "      <td>276726</td>\n",
       "      <td>0155061224</td>\n",
       "      <td>5</td>\n",
       "    </tr>\n",
       "    <tr>\n",
       "      <th>3</th>\n",
       "      <td>276729</td>\n",
       "      <td>052165615X</td>\n",
       "      <td>3</td>\n",
       "    </tr>\n",
       "    <tr>\n",
       "      <th>4</th>\n",
       "      <td>276729</td>\n",
       "      <td>0521795028</td>\n",
       "      <td>6</td>\n",
       "    </tr>\n",
       "    <tr>\n",
       "      <th>8</th>\n",
       "      <td>276744</td>\n",
       "      <td>038550120X</td>\n",
       "      <td>7</td>\n",
       "    </tr>\n",
       "    <tr>\n",
       "      <th>16</th>\n",
       "      <td>276747</td>\n",
       "      <td>0060517794</td>\n",
       "      <td>9</td>\n",
       "    </tr>\n",
       "  </tbody>\n",
       "</table>\n",
       "</div>"
      ],
      "text/plain": [
       "    User-ID        ISBN  Book-Rating\n",
       "1    276726  0155061224            5\n",
       "3    276729  052165615X            3\n",
       "4    276729  0521795028            6\n",
       "8    276744  038550120X            7\n",
       "16   276747  0060517794            9"
      ]
     },
     "execution_count": 7,
     "metadata": {},
     "output_type": "execute_result"
    }
   ],
   "source": [
    "ratings = ratings[ratings['ISBN'].isin(books['ISBN'])] # Some books aren't in the books database but are in ratings\n",
    "ratings = ratings[ratings['Book-Rating'] != 0] # Remove implicit (zero) ratings\n",
    "# ratings.to_pickle('ratings')\n",
    "ratings.head()"
   ]
  },
  {
   "cell_type": "code",
   "execution_count": 8,
   "id": "81513827-5308-483e-a150-b7bbe373793b",
   "metadata": {},
   "outputs": [
    {
     "name": "stdout",
     "output_type": "stream",
     "text": [
      "               ISBN   Book-Rating\n",
      "count  68091.000000  68091.000000\n",
      "mean       5.637191      5.637191\n",
      "std       41.742511     41.742511\n",
      "min        1.000000      1.000000\n",
      "25%        1.000000      1.000000\n",
      "50%        1.000000      1.000000\n",
      "75%        3.000000      3.000000\n",
      "max     6943.000000   6943.000000\n"
     ]
    },
    {
     "data": {
      "text/plain": [
       "(20194, 2)"
      ]
     },
     "execution_count": 8,
     "metadata": {},
     "output_type": "execute_result"
    }
   ],
   "source": [
    "user_ratings_count = ratings.groupby('User-ID').count()\n",
    "print(user_ratings_count.describe())\n",
    "user_ratings_count = user_ratings_count[user_ratings_count['ISBN'] >= 3] # Users with atleast than 5 ratings\n",
    "user_ratings_count.shape"
   ]
  },
  {
   "cell_type": "code",
   "execution_count": 9,
   "id": "af5db85e-fbc7-4fee-b131-e17bd5335cce",
   "metadata": {},
   "outputs": [
    {
     "data": {
      "text/plain": [
       "<Axes: >"
      ]
     },
     "execution_count": 9,
     "metadata": {},
     "output_type": "execute_result"
    },
    {
     "data": {
      "image/png": "[encoded data removed]",
      "text/plain": [
       "<Figure size 640x480 with 1 Axes>"
      ]
     },
     "metadata": {},
     "output_type": "display_data"
    }
   ],
   "source": [
    "book_ratings_count = ratings.groupby('ISBN').count()\n",
    "book_ratings_count = book_ratings_count.drop(columns=['User-ID'])\n",
    "book_ratings_count = book_ratings_count.rename(columns={'Book-Rating': 'Rating-Count'})\n",
    "book_ratings_count['Rating-Count'].quantile(numpy.round(numpy.arange(0.9, 1, 0.01), 2)).plot.bar() # Round for floating point error"
   ]
  },
  {
   "cell_type": "code",
   "execution_count": 10,
   "id": "0865988a-f686-41b2-83af-6db3a326eeca",
   "metadata": {},
   "outputs": [],
   "source": [
    "books = books.merge(book_ratings_count, on='ISBN', how='left')\n",
    "books['Rating-Count'] = books['Rating-Count'].fillna(0)"
   ]
  },
  {
   "cell_type": "code",
   "execution_count": 11,
   "id": "c9d4d4a3-a1b2-4ecc-87f0-7f0833398ccf",
   "metadata": {},
   "outputs": [],
   "source": [
    "average_book_ratings = ratings.groupby('ISBN').mean().round(2)\n",
    "average_book_ratings = average_book_ratings.drop(columns=['User-ID'])\n",
    "average_book_ratings = average_book_ratings.rename(columns={'Book-Rating': 'Average-Book-Rating'})\n",
    "books = books.merge(average_book_ratings, on='ISBN', how='left')\n",
    "books['Average-Book-Rating'] = books['Average-Book-Rating'].fillna(0)\n",
    "# books.to_pickle('books')"
   ]
  },
  {
   "cell_type": "code",
   "execution_count": 12,
   "id": "c687dcd2-16bd-421e-a5e6-9572c2eea2eb",
   "metadata": {},
   "outputs": [],
   "source": [
    "# ratings = ratings[ratings['User-ID'].isin(user_ratings_count.index)] # Remove users with less than 5 ratings, Perhaps this is not a good idea\n",
    "book_ratings_count = book_ratings_count[book_ratings_count['Rating-Count'] >= 24] # Books with atleast than 24 rating\n",
    "ratings = ratings[ratings['ISBN'].isin(book_ratings_count.index)]\n",
    "\n",
    "# Replace 0 ratings with the average\n",
    "# ratings = ratings[ratings['Book-Rating'] != 0]\n",
    "# avg_ratings = ratings[non_zero_ratings].groupby('ISBN')['Book-Rating'].mean().round(0)\n",
    "# ratings.loc[~non_zero_ratings, 'Book-Rating'] = ratings['ISBN'].map(avg_ratings)\n",
    "# ratings['Book-Rating'] = 1\n",
    "# ratings.head()"
   ]
  },
  {
   "cell_type": "code",
   "execution_count": 13,
   "id": "d116af8d-b752-41e4-a05b-c4688f67f056",
   "metadata": {},
   "outputs": [
    {
     "data": {
      "text/plain": [
       "(1586, 28915)"
      ]
     },
     "execution_count": 13,
     "metadata": {},
     "output_type": "execute_result"
    }
   ],
   "source": [
    "matrix = ratings.pivot(index='ISBN', columns='User-ID', values='Book-Rating').fillna(0)\n",
    "# matrix.to_pickle('matrix')\n",
    "matrix.shape"
   ]
  },
  {
   "cell_type": "markdown",
   "id": "54dd778e-23e9-486d-a866-fe51ba4d399a",
   "metadata": {},
   "source": [
    "# Find Nearest Neighbors"
   ]
  },
  {
   "cell_type": "code",
   "execution_count": 14,
   "id": "9859097e-3315-4087-8c69-ba84fab0e376",
   "metadata": {},
   "outputs": [
    {
     "data": {
      "text/html": [
       "<style>#sk-container-id-1 {color: black;}#sk-container-id-1 pre{padding: 0;}#sk-container-id-1 div.sk-toggleable {background-color: white;}#sk-container-id-1 label.sk-toggleable__label {cursor: pointer;display: block;width: 100%;margin-bottom: 0;padding: 0.3em;box-sizing: border-box;text-align: center;}#sk-container-id-1 label.sk-toggleable__label-arrow:before {content: \"▸\";float: left;margin-right: 0.25em;color: #696969;}#sk-container-id-1 label.sk-toggleable__label-arrow:hover:before {color: black;}#sk-container-id-1 div.sk-estimator:hover label.sk-toggleable__label-arrow:before {color: black;}#sk-container-id-1 div.sk-toggleable__content {max-height: 0;max-width: 0;overflow: hidden;text-align: left;background-color: #f0f8ff;}#sk-container-id-1 div.sk-toggleable__content pre {margin: 0.2em;color: black;border-radius: 0.25em;background-color: #f0f8ff;}#sk-container-id-1 input.sk-toggleable__control:checked~div.sk-toggleable__content {max-height: 200px;max-width: 100%;overflow: auto;}#sk-container-id-1 input.sk-toggleable__control:checked~label.sk-toggleable__label-arrow:before {content: \"▾\";}#sk-container-id-1 div.sk-estimator input.sk-toggleable__control:checked~label.sk-toggleable__label {background-color: #d4ebff;}#sk-container-id-1 div.sk-label input.sk-toggleable__control:checked~label.sk-toggleable__label {background-color: #d4ebff;}#sk-container-id-1 input.sk-hidden--visually {border: 0;clip: rect(1px 1px 1px 1px);clip: rect(1px, 1px, 1px, 1px);height: 1px;margin: -1px;overflow: hidden;padding: 0;position: absolute;width: 1px;}#sk-container-id-1 div.sk-estimator {font-family: monospace;background-color: #f0f8ff;border: 1px dotted black;border-radius: 0.25em;box-sizing: border-box;margin-bottom: 0.5em;}#sk-container-id-1 div.sk-estimator:hover {background-color: #d4ebff;}#sk-container-id-1 div.sk-parallel-item::after {content: \"\";width: 100%;border-bottom: 1px solid gray;flex-grow: 1;}#sk-container-id-1 div.sk-label:hover label.sk-toggleable__label {background-color: #d4ebff;}#sk-container-id-1 div.sk-serial::before {content: \"\";position: absolute;border-left: 1px solid gray;box-sizing: border-box;top: 0;bottom: 0;left: 50%;z-index: 0;}#sk-container-id-1 div.sk-serial {display: flex;flex-direction: column;align-items: center;background-color: white;padding-right: 0.2em;padding-left: 0.2em;position: relative;}#sk-container-id-1 div.sk-item {position: relative;z-index: 1;}#sk-container-id-1 div.sk-parallel {display: flex;align-items: stretch;justify-content: center;background-color: white;position: relative;}#sk-container-id-1 div.sk-item::before, #sk-container-id-1 div.sk-parallel-item::before {content: \"\";position: absolute;border-left: 1px solid gray;box-sizing: border-box;top: 0;bottom: 0;left: 50%;z-index: -1;}#sk-container-id-1 div.sk-parallel-item {display: flex;flex-direction: column;z-index: 1;position: relative;background-color: white;}#sk-container-id-1 div.sk-parallel-item:first-child::after {align-self: flex-end;width: 50%;}#sk-container-id-1 div.sk-parallel-item:last-child::after {align-self: flex-start;width: 50%;}#sk-container-id-1 div.sk-parallel-item:only-child::after {width: 0;}#sk-container-id-1 div.sk-dashed-wrapped {border: 1px dashed gray;margin: 0 0.4em 0.5em 0.4em;box-sizing: border-box;padding-bottom: 0.4em;background-color: white;}#sk-container-id-1 div.sk-label label {font-family: monospace;font-weight: bold;display: inline-block;line-height: 1.2em;}#sk-container-id-1 div.sk-label-container {text-align: center;}#sk-container-id-1 div.sk-container {/* jupyter's `normalize.less` sets `[hidden] { display: none; }` but bootstrap.min.css set `[hidden] { display: none !important; }` so we also need the `!important` here to be able to override the default hidden behavior on the sphinx rendered scikit-learn.org. See: https://github.com/scikit-learn/scikit-learn/issues/21755 */display: inline-block !important;position: relative;}#sk-container-id-1 div.sk-text-repr-fallback {display: none;}</style><div id=\"sk-container-id-1\" class=\"sk-top-container\"><div class=\"sk-text-repr-fallback\"><pre>NearestNeighbors(metric=&#x27;cosine&#x27;, n_neighbors=7)</pre><b>In a Jupyter environment, please rerun this cell to show the HTML representation or trust the notebook. <br />On GitHub, the HTML representation is unable to render, please try loading this page with nbviewer.org.</b></div><div class=\"sk-container\" hidden><div class=\"sk-item\"><div class=\"sk-estimator sk-toggleable\"><input class=\"sk-toggleable__control sk-hidden--visually\" id=\"sk-estimator-id-1\" type=\"checkbox\" checked><label for=\"sk-estimator-id-1\" class=\"sk-toggleable__label sk-toggleable__label-arrow\">NearestNeighbors</label><div class=\"sk-toggleable__content\"><pre>NearestNeighbors(metric=&#x27;cosine&#x27;, n_neighbors=7)</pre></div></div></div></div></div>"
      ],
      "text/plain": [
       "NearestNeighbors(metric='cosine', n_neighbors=7)"
      ]
     },
     "execution_count": 14,
     "metadata": {},
     "output_type": "execute_result"
    }
   ],
   "source": [
    "from sklearn.neighbors import NearestNeighbors\n",
    "import joblib\n",
    "\n",
    "model = NearestNeighbors(metric='cosine', n_neighbors=7)\n",
    "model.fit(matrix)\n",
    "# joblib.dump(model, 'model.pkl')"
   ]
  },
  {
   "cell_type": "code",
   "execution_count": 15,
   "id": "29be277d-8228-4c75-85fe-9a1d36809339",
   "metadata": {},
   "outputs": [
    {
     "data": {
      "text/plain": [
       "array([[0., 0., 0., ..., 0., 0., 0.]])"
      ]
     },
     "execution_count": 15,
     "metadata": {},
     "output_type": "execute_result"
    }
   ],
   "source": [
    "book = matrix[matrix.index == '0060256672'].values\n",
    "book"
   ]
  },
  {
   "cell_type": "code",
   "execution_count": 16,
   "id": "1275e7b8-289f-488c-a2cb-f82ed481160d",
   "metadata": {},
   "outputs": [],
   "source": [
    "neigh_dist, neigh_ind = model.kneighbors(book, return_distance=True)"
   ]
  },
  {
   "cell_type": "code",
   "execution_count": 17,
   "id": "50575ff3-b70d-46e7-87db-d2a2f8b2eec0",
   "metadata": {},
   "outputs": [
    {
     "data": {
      "text/plain": [
       "array([[0.        , 0.85732709, 0.87798088, 0.88087861, 0.88380854,\n",
       "        0.89029957, 0.89804125]])"
      ]
     },
     "execution_count": 17,
     "metadata": {},
     "output_type": "execute_result"
    }
   ],
   "source": [
    "neigh_dist"
   ]
  },
  {
   "cell_type": "code",
   "execution_count": 18,
   "id": "a06d4aac-1382-4bae-a0a6-75bc2e3c7732",
   "metadata": {},
   "outputs": [
    {
     "data": {
      "text/plain": [
       "array([[  21,   20,  111, 1315, 1323,  825,  470]], dtype=int64)"
      ]
     },
     "execution_count": 18,
     "metadata": {},
     "output_type": "execute_result"
    }
   ],
   "source": [
    "neigh_ind"
   ]
  },
  {
   "cell_type": "code",
   "execution_count": 19,
   "id": "06dac350-aa05-4f8d-bd4a-76f221e13eaa",
   "metadata": {},
   "outputs": [
    {
     "name": "stdout",
     "output_type": "stream",
     "text": [
      "            ISBN                                    Book-Title  \\\n",
      "1101  0060256672  Where the Sidewalk Ends : Poems and Drawings   \n",
      "\n",
      "           Book-Author  Year-Of-Publication      Publisher  \\\n",
      "1101  Shel Silverstein               1974.0  HarperCollins   \n",
      "\n",
      "                                            Image-URL-L  Rating-Count  \\\n",
      "1101  http://images.amazon.com/images/P/0060256672.0...          25.0   \n",
      "\n",
      "      Average-Book-Rating  \n",
      "1101                  9.4  \n",
      "             ISBN  Book-Title       Book-Author  Year-Of-Publication  \\\n",
      "16190  0060248025  Falling Up  Shel Silverstein               1996.0   \n",
      "\n",
      "           Publisher                                        Image-URL-L  \\\n",
      "16190  HarperCollins  http://images.amazon.com/images/P/0060248025.0...   \n",
      "\n",
      "       Rating-Count  Average-Book-Rating  \n",
      "16190          30.0                 8.77  \n",
      "            ISBN                                   Book-Title  Book-Author  \\\n",
      "1097  0140077022  White Noise (Contemporary American Fiction)  Don DeLillo   \n",
      "\n",
      "      Year-Of-Publication      Publisher  \\\n",
      "1097               1991.0  Penguin Books   \n",
      "\n",
      "                                            Image-URL-L  Rating-Count  \\\n",
      "1097  http://images.amazon.com/images/P/0140077022.0...          27.0   \n",
      "\n",
      "      Average-Book-Rating  \n",
      "1097                 7.44  \n",
      "             ISBN   Book-Title         Book-Author  Year-Of-Publication  \\\n",
      "11870  0671867091  Remember Me  Mary Higgins Clark               1995.0   \n",
      "\n",
      "      Publisher                                        Image-URL-L  \\\n",
      "11870    Pocket  http://images.amazon.com/images/P/0671867091.0...   \n",
      "\n",
      "       Rating-Count  Average-Book-Rating  \n",
      "11870          36.0                 7.92  \n",
      "          ISBN          Book-Title         Book-Author  Year-Of-Publication  \\\n",
      "45  0671888587  I'll Be Seeing You  Mary Higgins Clark               1994.0   \n",
      "\n",
      "   Publisher                                        Image-URL-L  Rating-Count  \\\n",
      "45    Pocket  http://images.amazon.com/images/P/0671888587.0...          36.0   \n",
      "\n",
      "    Average-Book-Rating  \n",
      "45                 7.56  \n",
      "            ISBN        Book-Title    Book-Author  Year-Of-Publication  \\\n",
      "5913  0446600253  Bless Me, Ultima  Rudolfo Anaya               1994.0   \n",
      "\n",
      "         Publisher                                        Image-URL-L  \\\n",
      "5913  Warner Books  http://images.amazon.com/images/P/0446600253.0...   \n",
      "\n",
      "      Rating-Count  Average-Book-Rating  \n",
      "5913          25.0                  8.0  \n",
      "           ISBN                      Book-Title      Book-Author  \\\n",
      "936  0380820447  For Better, for Worse: A Novel  Carole Matthews   \n",
      "\n",
      "     Year-Of-Publication   Publisher  \\\n",
      "936               2002.0  Avon Trade   \n",
      "\n",
      "                                           Image-URL-L  Rating-Count  \\\n",
      "936  http://images.amazon.com/images/P/0380820447.0...          24.0   \n",
      "\n",
      "     Average-Book-Rating  \n",
      "936                 7.46  \n"
     ]
    }
   ],
   "source": [
    "for i in neigh_ind[0]:\n",
    "    print(books[books['ISBN'] == matrix.index[i]])"
   ]
  }
 ],
 "metadata": {
  "kernelspec": {
   "display_name": "Python 3 (ipykernel)",
   "language": "python",
   "name": "python3"
  },
  "language_info": {
   "codemirror_mode": {
    "name": "ipython",
    "version": 3
   },
   "file_extension": ".py",
   "mimetype": "text/x-python",
   "name": "python",
   "nbconvert_exporter": "python",
   "pygments_lexer": "ipython3",
   "version": "3.9.13"
  }
 },
 "nbformat": 4,
 "nbformat_minor": 5
}
